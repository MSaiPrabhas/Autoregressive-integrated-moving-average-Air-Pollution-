{
  "nbformat": 4,
  "nbformat_minor": 0,
  "metadata": {
    "colab": {
      "provenance": []
    },
    "kernelspec": {
      "name": "python3",
      "display_name": "Python 3"
    },
    "language_info": {
      "name": "python"
    }
  },
  "cells": [
    {
      "cell_type": "code",
      "execution_count": null,
      "metadata": {
        "colab": {
          "base_uri": "https://localhost:8080/"
        },
        "id": "HJLBVMBcE8UK",
        "outputId": "5a2a0db1-f3a1-492f-aa97-0bfd0f0cf5a3"
      },
      "outputs": [
        {
          "output_type": "stream",
          "name": "stdout",
          "text": [
            "Looking in indexes: https://pypi.org/simple, https://us-python.pkg.dev/colab-wheels/public/simple/\n",
            "Collecting pmdarima\n",
            "  Downloading pmdarima-2.0.1-cp37-cp37m-manylinux_2_17_x86_64.manylinux2014_x86_64.manylinux_2_28_x86_64.whl (1.8 MB)\n",
            "\u001b[K     |████████████████████████████████| 1.8 MB 5.2 MB/s \n",
            "\u001b[?25hRequirement already satisfied: Cython!=0.29.18,!=0.29.31,>=0.29 in /usr/local/lib/python3.7/dist-packages (from pmdarima) (0.29.32)\n",
            "Requirement already satisfied: scikit-learn>=0.22 in /usr/local/lib/python3.7/dist-packages (from pmdarima) (1.0.2)\n",
            "Collecting statsmodels>=0.13.2\n",
            "  Downloading statsmodels-0.13.2-cp37-cp37m-manylinux_2_17_x86_64.manylinux2014_x86_64.whl (9.8 MB)\n",
            "\u001b[K     |████████████████████████████████| 9.8 MB 43.4 MB/s \n",
            "\u001b[?25hRequirement already satisfied: urllib3 in /usr/local/lib/python3.7/dist-packages (from pmdarima) (1.24.3)\n",
            "Requirement already satisfied: pandas>=0.19 in /usr/local/lib/python3.7/dist-packages (from pmdarima) (1.3.5)\n",
            "Requirement already satisfied: scipy>=1.3.2 in /usr/local/lib/python3.7/dist-packages (from pmdarima) (1.7.3)\n",
            "Requirement already satisfied: setuptools!=50.0.0,>=38.6.0 in /usr/local/lib/python3.7/dist-packages (from pmdarima) (57.4.0)\n",
            "Requirement already satisfied: joblib>=0.11 in /usr/local/lib/python3.7/dist-packages (from pmdarima) (1.2.0)\n",
            "Requirement already satisfied: numpy>=1.21 in /usr/local/lib/python3.7/dist-packages (from pmdarima) (1.21.6)\n",
            "Requirement already satisfied: pytz>=2017.3 in /usr/local/lib/python3.7/dist-packages (from pandas>=0.19->pmdarima) (2022.4)\n",
            "Requirement already satisfied: python-dateutil>=2.7.3 in /usr/local/lib/python3.7/dist-packages (from pandas>=0.19->pmdarima) (2.8.2)\n",
            "Requirement already satisfied: six>=1.5 in /usr/local/lib/python3.7/dist-packages (from python-dateutil>=2.7.3->pandas>=0.19->pmdarima) (1.15.0)\n",
            "Requirement already satisfied: threadpoolctl>=2.0.0 in /usr/local/lib/python3.7/dist-packages (from scikit-learn>=0.22->pmdarima) (3.1.0)\n",
            "Requirement already satisfied: patsy>=0.5.2 in /usr/local/lib/python3.7/dist-packages (from statsmodels>=0.13.2->pmdarima) (0.5.3)\n",
            "Requirement already satisfied: packaging>=21.3 in /usr/local/lib/python3.7/dist-packages (from statsmodels>=0.13.2->pmdarima) (21.3)\n",
            "Requirement already satisfied: pyparsing!=3.0.5,>=2.0.2 in /usr/local/lib/python3.7/dist-packages (from packaging>=21.3->statsmodels>=0.13.2->pmdarima) (3.0.9)\n",
            "Installing collected packages: statsmodels, pmdarima\n",
            "  Attempting uninstall: statsmodels\n",
            "    Found existing installation: statsmodels 0.12.2\n",
            "    Uninstalling statsmodels-0.12.2:\n",
            "      Successfully uninstalled statsmodels-0.12.2\n",
            "Successfully installed pmdarima-2.0.1 statsmodels-0.13.2\n"
          ]
        }
      ],
      "source": [
        "\n",
        "!pip install pmdarima"
      ]
    },
    {
      "cell_type": "code",
      "source": [
        "import pandas as pd\n",
        "import numpy as np"
      ],
      "metadata": {
        "id": "EVF37YmJE_Rj"
      },
      "execution_count": null,
      "outputs": []
    },
    {
      "cell_type": "code",
      "source": [
        "df=pd.read_csv('/content/city_day.csv',index_col='Date',parse_dates=True)\n",
        "df=df.dropna()\n",
        "print('Shape of data',df.shape)\n",
        "df.head"
      ],
      "metadata": {
        "colab": {
          "base_uri": "https://localhost:8080/"
        },
        "id": "PtBJBT3MFC3r",
        "outputId": "3ddba53e-d1d3-4198-8447-07d7e654fd69"
      },
      "execution_count": null,
      "outputs": [
        {
          "output_type": "stream",
          "name": "stdout",
          "text": [
            "Shape of data (6236, 15)\n"
          ]
        },
        {
          "output_type": "execute_result",
          "data": {
            "text/plain": [
              "<bound method NDFrame.head of                      City  PM2.5    PM10    NO    NO2    NOx    NH3    CO  \\\n",
              "Date                                                                        \n",
              "2017-11-25      Amaravati  71.36  124.50  1.44  20.50  12.08  10.72  0.12   \n",
              "2017-11-26      Amaravati  71.36  129.06  1.26  26.00  14.85  10.28  0.14   \n",
              "2017-11-27      Amaravati  71.36  135.32  6.60  30.85  21.77  12.91  0.11   \n",
              "2017-11-28      Amaravati  71.36  104.09  2.56  28.07  17.01  11.42  0.09   \n",
              "2017-11-29      Amaravati  71.36  114.84  5.23  23.20  16.59  12.25  0.16   \n",
              "...                   ...    ...     ...   ...    ...    ...    ...   ...   \n",
              "2020-06-26  Visakhapatnam   7.63   32.27  5.91  23.27  17.19  11.15  0.46   \n",
              "2020-06-27  Visakhapatnam  15.02   50.94  7.68  25.06  19.54  12.47  0.47   \n",
              "2020-06-28  Visakhapatnam  24.38   74.09  3.42  26.06  16.53  11.99  0.52   \n",
              "2020-06-29  Visakhapatnam  22.91   65.73  3.45  29.53  18.33  10.71  0.48   \n",
              "2020-06-30  Visakhapatnam  16.64   49.97  4.05  29.26  18.80  10.03  0.52   \n",
              "\n",
              "              SO2      O3  Benzene  Toluene  Xylene    AQI    AQI_Bucket  \n",
              "Date                                                                      \n",
              "2017-11-25  15.24  127.09     0.20     6.50    0.06  184.0      Moderate  \n",
              "2017-11-26  26.96  117.44     0.22     7.95    0.08  197.0      Moderate  \n",
              "2017-11-27  33.59  111.81     0.29     7.63    0.12  198.0      Moderate  \n",
              "2017-11-28  19.00  138.18     0.17     5.02    0.07  188.0      Moderate  \n",
              "2017-11-29  10.55  109.74     0.21     4.71    0.08  173.0      Moderate  \n",
              "...           ...     ...      ...      ...     ...    ...           ...  \n",
              "2020-06-26   6.87   19.90     1.45     5.37    1.45   47.0          Good  \n",
              "2020-06-27   8.55   23.30     2.24    12.07    0.73   41.0          Good  \n",
              "2020-06-28  12.72   30.14     0.74     2.21    0.38   70.0  Satisfactory  \n",
              "2020-06-29   8.42   30.96     0.01     0.01    0.00   68.0  Satisfactory  \n",
              "2020-06-30   9.84   28.30     0.00     0.00    0.00   54.0  Satisfactory  \n",
              "\n",
              "[6236 rows x 15 columns]>"
            ]
          },
          "metadata": {},
          "execution_count": 3
        }
      ]
    },
    {
      "cell_type": "code",
      "source": [
        "df['PM2.5'].plot(figsize=(12,5))"
      ],
      "metadata": {
        "colab": {
          "base_uri": "https://localhost:8080/",
          "height": 335
        },
        "id": "VtccKmq5FGcd",
        "outputId": "2deba9fa-3102-4ef7-a450-a9062ae332e6"
      },
      "execution_count": null,
      "outputs": [
        {
          "output_type": "execute_result",
          "data": {
            "text/plain": [
              "<matplotlib.axes._subplots.AxesSubplot at 0x7fb0d6b8a810>"
            ]
          },
          "metadata": {},
          "execution_count": 4
        },
        {
          "output_type": "display_data",
          "data": {
            "text/plain": [
              "<Figure size 864x360 with 1 Axes>"
            ],
            "image/png": "[encoded data removed]"
          },
          "metadata": {
            "needs_background": "light"
          }
        }
      ]
    },
    {
      "cell_type": "code",
      "source": [
        "from statsmodels.tsa.stattools import adfuller\n",
        "\n",
        "def ad_test(dataset):\n",
        "  dftest=adfuller(dataset,autolag='AIC')\n",
        "  print(\"1.ADF: \",dftest[0])\n",
        "  print(\"2. P-value: \",dftest[1])\n",
        "  print(\"3. Num of Lags: \",dftest[2])\n",
        "  print(\"4. Num of observation used for ADF Regression and Critical Values Calculation: \",dftest[3])\n",
        "  print(\"5. Critical Values: \")\n",
        "  for key, val in dftest[4].items():\n",
        "    print(\"\\t\",key,\": \",val)"
      ],
      "metadata": {
        "id": "29foP5CRFWyR"
      },
      "execution_count": null,
      "outputs": []
    },
    {
      "cell_type": "code",
      "source": [
        "ad_test(df['PM2.5'])"
      ],
      "metadata": {
        "colab": {
          "base_uri": "https://localhost:8080/"
        },
        "id": "PGcISDx-Fg4z",
        "outputId": "14e387f4-a883-4b4a-880d-3fe80b94fe56"
      },
      "execution_count": null,
      "outputs": [
        {
          "output_type": "stream",
          "name": "stdout",
          "text": [
            "1.ADF:  -5.980824257003144\n",
            "2. P-value:  1.8403408425566062e-07\n",
            "3. Num of Lags:  23\n",
            "4. Num of observation used for ADF Regression and Critical Values Calculation:  6212\n",
            "5. Critical Values: \n",
            "\t 1% :  -3.4314031236715627\n",
            "\t 5% :  -2.8620053867710293\n",
            "\t 10% :  -2.567017722503109\n"
          ]
        }
      ]
    },
    {
      "cell_type": "code",
      "source": [
        "from pmdarima import auto_arima\n",
        "# Ignore harmless warnings\n",
        "import warnings\n",
        "warnings.filterwarnings(\"ignore\")"
      ],
      "metadata": {
        "id": "zcsWABqmFl-E"
      },
      "execution_count": null,
      "outputs": []
    },
    {
      "cell_type": "code",
      "source": [
        "stepwise_fit=auto_arima(df['PM2.5'],trace=True,suppress_warnings=True)\n",
        "stepwise_fit.summary()"
      ],
      "metadata": {
        "colab": {
          "base_uri": "https://localhost:8080/",
          "height": 1000
        },
        "id": "y9RCi2XTFo23",
        "outputId": "19330dee-4f9b-4b76-c947-533b72d95b9b"
      },
      "execution_count": null,
      "outputs": [
        {
          "output_type": "stream",
          "name": "stdout",
          "text": [
            "Performing stepwise search to minimize aic\n",
            " ARIMA(2,1,2)(0,0,0)[0] intercept   : AIC=57159.105, Time=5.48 sec\n",
            " ARIMA(0,1,0)(0,0,0)[0] intercept   : AIC=58047.976, Time=0.16 sec\n",
            " ARIMA(1,1,0)(0,0,0)[0] intercept   : AIC=57979.671, Time=0.30 sec\n",
            " ARIMA(0,1,1)(0,0,0)[0] intercept   : AIC=57906.369, Time=1.07 sec\n",
            " ARIMA(0,1,0)(0,0,0)[0]             : AIC=58045.977, Time=0.11 sec\n",
            " ARIMA(1,1,2)(0,0,0)[0] intercept   : AIC=57170.742, Time=3.35 sec\n",
            " ARIMA(2,1,1)(0,0,0)[0] intercept   : AIC=57191.117, Time=4.17 sec\n",
            " ARIMA(3,1,2)(0,0,0)[0] intercept   : AIC=57157.057, Time=5.87 sec\n",
            " ARIMA(3,1,1)(0,0,0)[0] intercept   : AIC=57160.740, Time=5.96 sec\n",
            " ARIMA(4,1,2)(0,0,0)[0] intercept   : AIC=57158.129, Time=18.93 sec\n",
            " ARIMA(3,1,3)(0,0,0)[0] intercept   : AIC=57155.627, Time=13.78 sec\n",
            " ARIMA(2,1,3)(0,0,0)[0] intercept   : AIC=57157.952, Time=9.09 sec\n",
            " ARIMA(4,1,3)(0,0,0)[0] intercept   : AIC=57157.569, Time=18.09 sec\n",
            " ARIMA(3,1,4)(0,0,0)[0] intercept   : AIC=57157.557, Time=16.01 sec\n",
            " ARIMA(2,1,4)(0,0,0)[0] intercept   : AIC=57159.348, Time=8.03 sec\n",
            " ARIMA(4,1,4)(0,0,0)[0] intercept   : AIC=57159.820, Time=21.85 sec\n",
            " ARIMA(3,1,3)(0,0,0)[0]             : AIC=57153.638, Time=5.23 sec\n",
            " ARIMA(2,1,3)(0,0,0)[0]             : AIC=57155.964, Time=4.41 sec\n",
            " ARIMA(3,1,2)(0,0,0)[0]             : AIC=57155.069, Time=2.58 sec\n",
            " ARIMA(4,1,3)(0,0,0)[0]             : AIC=57155.565, Time=8.99 sec\n",
            " ARIMA(3,1,4)(0,0,0)[0]             : AIC=57155.609, Time=9.64 sec\n",
            " ARIMA(2,1,2)(0,0,0)[0]             : AIC=57157.116, Time=1.81 sec\n",
            " ARIMA(2,1,4)(0,0,0)[0]             : AIC=57157.362, Time=2.95 sec\n",
            " ARIMA(4,1,2)(0,0,0)[0]             : AIC=57156.060, Time=7.24 sec\n",
            " ARIMA(4,1,4)(0,0,0)[0]             : AIC=57157.520, Time=9.44 sec\n",
            "\n",
            "Best model:  ARIMA(3,1,3)(0,0,0)[0]          \n",
            "Total fit time: 184.604 seconds\n"
          ]
        },
        {
          "output_type": "execute_result",
          "data": {
            "text/plain": [
              "<class 'statsmodels.iolib.summary.Summary'>\n",
              "\"\"\"\n",
              "                               SARIMAX Results                                \n",
              "==============================================================================\n",
              "Dep. Variable:                      y   No. Observations:                 6236\n",
              "Model:               SARIMAX(3, 1, 3)   Log Likelihood              -28569.819\n",
              "Date:                Mon, 17 Oct 2022   AIC                          57153.638\n",
              "Time:                        08:40:01   BIC                          57200.804\n",
              "Sample:                             0   HQIC                         57169.986\n",
              "                               - 6236                                         \n",
              "Covariance Type:                  opg                                         \n",
              "==============================================================================\n",
              "                 coef    std err          z      P>|z|      [0.025      0.975]\n",
              "------------------------------------------------------------------------------\n",
              "ar.L1         -0.4475      0.138     -3.254      0.001      -0.717      -0.178\n",
              "ar.L2          0.1436      0.040      3.610      0.000       0.066       0.222\n",
              "ar.L3          0.2241      0.030      7.490      0.000       0.165       0.283\n",
              "ma.L1          0.2265      0.138      1.646      0.100      -0.043       0.496\n",
              "ma.L2         -0.5504      0.065     -8.520      0.000      -0.677      -0.424\n",
              "ma.L3         -0.4051      0.061     -6.620      0.000      -0.525      -0.285\n",
              "sigma2       559.1558      2.155    259.506      0.000     554.933     563.379\n",
              "===================================================================================\n",
              "Ljung-Box (L1) (Q):                   0.00   Jarque-Bera (JB):            507374.39\n",
              "Prob(Q):                              0.98   Prob(JB):                         0.00\n",
              "Heteroskedasticity (H):               0.40   Skew:                             2.37\n",
              "Prob(H) (two-sided):                  0.00   Kurtosis:                        46.94\n",
              "===================================================================================\n",
              "\n",
              "Warnings:\n",
              "[1] Covariance matrix calculated using the outer product of gradients (complex-step).\n",
              "\"\"\""
            ],
            "text/html": [
              "<table class=\"simpletable\">\n",
              "<caption>SARIMAX Results</caption>\n",
              "<tr>\n",
              "  <th>Dep. Variable:</th>           <td>y</td>        <th>  No. Observations:  </th>    <td>6236</td>   \n",
              "</tr>\n",
              "<tr>\n",
              "  <th>Model:</th>           <td>SARIMAX(3, 1, 3)</td> <th>  Log Likelihood     </th> <td>-28569.819</td>\n",
              "</tr>\n",
              "<tr>\n",
              "  <th>Date:</th>            <td>Mon, 17 Oct 2022</td> <th>  AIC                </th>  <td>57153.638</td>\n",
              "</tr>\n",
              "<tr>\n",
              "  <th>Time:</th>                <td>08:40:01</td>     <th>  BIC                </th>  <td>57200.804</td>\n",
              "</tr>\n",
              "<tr>\n",
              "  <th>Sample:</th>                  <td>0</td>        <th>  HQIC               </th>  <td>57169.986</td>\n",
              "</tr>\n",
              "<tr>\n",
              "  <th></th>                      <td> - 6236</td>     <th>                     </th>      <td> </td>    \n",
              "</tr>\n",
              "<tr>\n",
              "  <th>Covariance Type:</th>        <td>opg</td>       <th>                     </th>      <td> </td>    \n",
              "</tr>\n",
              "</table>\n",
              "<table class=\"simpletable\">\n",
              "<tr>\n",
              "     <td></td>       <th>coef</th>     <th>std err</th>      <th>z</th>      <th>P>|z|</th>  <th>[0.025</th>    <th>0.975]</th>  \n",
              "</tr>\n",
              "<tr>\n",
              "  <th>ar.L1</th>  <td>   -0.4475</td> <td>    0.138</td> <td>   -3.254</td> <td> 0.001</td> <td>   -0.717</td> <td>   -0.178</td>\n",
              "</tr>\n",
              "<tr>\n",
              "  <th>ar.L2</th>  <td>    0.1436</td> <td>    0.040</td> <td>    3.610</td> <td> 0.000</td> <td>    0.066</td> <td>    0.222</td>\n",
              "</tr>\n",
              "<tr>\n",
              "  <th>ar.L3</th>  <td>    0.2241</td> <td>    0.030</td> <td>    7.490</td> <td> 0.000</td> <td>    0.165</td> <td>    0.283</td>\n",
              "</tr>\n",
              "<tr>\n",
              "  <th>ma.L1</th>  <td>    0.2265</td> <td>    0.138</td> <td>    1.646</td> <td> 0.100</td> <td>   -0.043</td> <td>    0.496</td>\n",
              "</tr>\n",
              "<tr>\n",
              "  <th>ma.L2</th>  <td>   -0.5504</td> <td>    0.065</td> <td>   -8.520</td> <td> 0.000</td> <td>   -0.677</td> <td>   -0.424</td>\n",
              "</tr>\n",
              "<tr>\n",
              "  <th>ma.L3</th>  <td>   -0.4051</td> <td>    0.061</td> <td>   -6.620</td> <td> 0.000</td> <td>   -0.525</td> <td>   -0.285</td>\n",
              "</tr>\n",
              "<tr>\n",
              "  <th>sigma2</th> <td>  559.1558</td> <td>    2.155</td> <td>  259.506</td> <td> 0.000</td> <td>  554.933</td> <td>  563.379</td>\n",
              "</tr>\n",
              "</table>\n",
              "<table class=\"simpletable\">\n",
              "<tr>\n",
              "  <th>Ljung-Box (L1) (Q):</th>     <td>0.00</td> <th>  Jarque-Bera (JB):  </th> <td>507374.39</td>\n",
              "</tr>\n",
              "<tr>\n",
              "  <th>Prob(Q):</th>                <td>0.98</td> <th>  Prob(JB):          </th>   <td>0.00</td>   \n",
              "</tr>\n",
              "<tr>\n",
              "  <th>Heteroskedasticity (H):</th> <td>0.40</td> <th>  Skew:              </th>   <td>2.37</td>   \n",
              "</tr>\n",
              "<tr>\n",
              "  <th>Prob(H) (two-sided):</th>    <td>0.00</td> <th>  Kurtosis:          </th>   <td>46.94</td>  \n",
              "</tr>\n",
              "</table><br/><br/>Warnings:<br/>[1] Covariance matrix calculated using the outer product of gradients (complex-step)."
            ]
          },
          "metadata": {},
          "execution_count": 9
        }
      ]
    },
    {
      "cell_type": "code",
      "source": [
        "from statsmodels.tsa.arima_model import ARIMA"
      ],
      "metadata": {
        "id": "hxAULhPPFuka"
      },
      "execution_count": null,
      "outputs": []
    },
    {
      "cell_type": "code",
      "source": [
        "print(df.shape)\n",
        "train=df.iloc[:-30]\n",
        "test=df.iloc[-30:]\n",
        "print(train.shape,test.shape)"
      ],
      "metadata": {
        "colab": {
          "base_uri": "https://localhost:8080/"
        },
        "id": "YXr5HK_mFxJF",
        "outputId": "fcafba01-4a16-4400-daf0-6f775e7176d4"
      },
      "execution_count": null,
      "outputs": [
        {
          "output_type": "stream",
          "name": "stdout",
          "text": [
            "(6236, 15)\n",
            "(6206, 15) (30, 15)\n"
          ]
        }
      ]
    },
    {
      "cell_type": "code",
      "source": [
        "from statsmodels.tsa.arima_model import ARIMA\n",
        "import statsmodels.api as sm"
      ],
      "metadata": {
        "id": "CwXkE46SGRv5"
      },
      "execution_count": null,
      "outputs": []
    },
    {
      "cell_type": "code",
      "source": [
        "model=sm.tsa.arima.ARIMA(train['PM2.5'],order=(3,1,3))\n",
        "model=model.fit()\n",
        "model.summary()"
      ],
      "metadata": {
        "colab": {
          "base_uri": "https://localhost:8080/",
          "height": 507
        },
        "id": "9II3LC9_GlFf",
        "outputId": "6ac5fee6-2a28-46e2-f1c0-0df2e04ecb15"
      },
      "execution_count": null,
      "outputs": [
        {
          "output_type": "execute_result",
          "data": {
            "text/plain": [
              "<class 'statsmodels.iolib.summary.Summary'>\n",
              "\"\"\"\n",
              "                               SARIMAX Results                                \n",
              "==============================================================================\n",
              "Dep. Variable:                  PM2.5   No. Observations:                 6206\n",
              "Model:                 ARIMA(3, 1, 3)   Log Likelihood              -28445.951\n",
              "Date:                Mon, 17 Oct 2022   AIC                          56905.902\n",
              "Time:                        08:41:21   BIC                          56953.034\n",
              "Sample:                             0   HQIC                         56922.241\n",
              "                               - 6206                                         \n",
              "Covariance Type:                  opg                                         \n",
              "==============================================================================\n",
              "                 coef    std err          z      P>|z|      [0.025      0.975]\n",
              "------------------------------------------------------------------------------\n",
              "ar.L1         -0.4442      0.140     -3.178      0.001      -0.718      -0.170\n",
              "ar.L2          0.1436      0.040      3.584      0.000       0.065       0.222\n",
              "ar.L3          0.2233      0.030      7.382      0.000       0.164       0.283\n",
              "ma.L1          0.2233      0.140      1.597      0.110      -0.051       0.497\n",
              "ma.L2         -0.5498      0.065     -8.414      0.000      -0.678      -0.422\n",
              "ma.L3         -0.4031      0.062     -6.479      0.000      -0.525      -0.281\n",
              "sigma2       561.6434      2.174    258.356      0.000     557.383     565.904\n",
              "===================================================================================\n",
              "Ljung-Box (L1) (Q):                   0.00   Jarque-Bera (JB):            500671.20\n",
              "Prob(Q):                              0.98   Prob(JB):                         0.00\n",
              "Heteroskedasticity (H):               0.40   Skew:                             2.37\n",
              "Prob(H) (two-sided):                  0.00   Kurtosis:                        46.75\n",
              "===================================================================================\n",
              "\n",
              "Warnings:\n",
              "[1] Covariance matrix calculated using the outer product of gradients (complex-step).\n",
              "\"\"\""
            ],
            "text/html": [
              "<table class=\"simpletable\">\n",
              "<caption>SARIMAX Results</caption>\n",
              "<tr>\n",
              "  <th>Dep. Variable:</th>         <td>PM2.5</td>      <th>  No. Observations:  </th>    <td>6206</td>   \n",
              "</tr>\n",
              "<tr>\n",
              "  <th>Model:</th>            <td>ARIMA(3, 1, 3)</td>  <th>  Log Likelihood     </th> <td>-28445.951</td>\n",
              "</tr>\n",
              "<tr>\n",
              "  <th>Date:</th>            <td>Mon, 17 Oct 2022</td> <th>  AIC                </th>  <td>56905.902</td>\n",
              "</tr>\n",
              "<tr>\n",
              "  <th>Time:</th>                <td>08:41:21</td>     <th>  BIC                </th>  <td>56953.034</td>\n",
              "</tr>\n",
              "<tr>\n",
              "  <th>Sample:</th>                  <td>0</td>        <th>  HQIC               </th>  <td>56922.241</td>\n",
              "</tr>\n",
              "<tr>\n",
              "  <th></th>                      <td> - 6206</td>     <th>                     </th>      <td> </td>    \n",
              "</tr>\n",
              "<tr>\n",
              "  <th>Covariance Type:</th>        <td>opg</td>       <th>                     </th>      <td> </td>    \n",
              "</tr>\n",
              "</table>\n",
              "<table class=\"simpletable\">\n",
              "<tr>\n",
              "     <td></td>       <th>coef</th>     <th>std err</th>      <th>z</th>      <th>P>|z|</th>  <th>[0.025</th>    <th>0.975]</th>  \n",
              "</tr>\n",
              "<tr>\n",
              "  <th>ar.L1</th>  <td>   -0.4442</td> <td>    0.140</td> <td>   -3.178</td> <td> 0.001</td> <td>   -0.718</td> <td>   -0.170</td>\n",
              "</tr>\n",
              "<tr>\n",
              "  <th>ar.L2</th>  <td>    0.1436</td> <td>    0.040</td> <td>    3.584</td> <td> 0.000</td> <td>    0.065</td> <td>    0.222</td>\n",
              "</tr>\n",
              "<tr>\n",
              "  <th>ar.L3</th>  <td>    0.2233</td> <td>    0.030</td> <td>    7.382</td> <td> 0.000</td> <td>    0.164</td> <td>    0.283</td>\n",
              "</tr>\n",
              "<tr>\n",
              "  <th>ma.L1</th>  <td>    0.2233</td> <td>    0.140</td> <td>    1.597</td> <td> 0.110</td> <td>   -0.051</td> <td>    0.497</td>\n",
              "</tr>\n",
              "<tr>\n",
              "  <th>ma.L2</th>  <td>   -0.5498</td> <td>    0.065</td> <td>   -8.414</td> <td> 0.000</td> <td>   -0.678</td> <td>   -0.422</td>\n",
              "</tr>\n",
              "<tr>\n",
              "  <th>ma.L3</th>  <td>   -0.4031</td> <td>    0.062</td> <td>   -6.479</td> <td> 0.000</td> <td>   -0.525</td> <td>   -0.281</td>\n",
              "</tr>\n",
              "<tr>\n",
              "  <th>sigma2</th> <td>  561.6434</td> <td>    2.174</td> <td>  258.356</td> <td> 0.000</td> <td>  557.383</td> <td>  565.904</td>\n",
              "</tr>\n",
              "</table>\n",
              "<table class=\"simpletable\">\n",
              "<tr>\n",
              "  <th>Ljung-Box (L1) (Q):</th>     <td>0.00</td> <th>  Jarque-Bera (JB):  </th> <td>500671.20</td>\n",
              "</tr>\n",
              "<tr>\n",
              "  <th>Prob(Q):</th>                <td>0.98</td> <th>  Prob(JB):          </th>   <td>0.00</td>   \n",
              "</tr>\n",
              "<tr>\n",
              "  <th>Heteroskedasticity (H):</th> <td>0.40</td> <th>  Skew:              </th>   <td>2.37</td>   \n",
              "</tr>\n",
              "<tr>\n",
              "  <th>Prob(H) (two-sided):</th>    <td>0.00</td> <th>  Kurtosis:          </th>   <td>46.75</td>  \n",
              "</tr>\n",
              "</table><br/><br/>Warnings:<br/>[1] Covariance matrix calculated using the outer product of gradients (complex-step)."
            ]
          },
          "metadata": {},
          "execution_count": 15
        }
      ]
    },
    {
      "cell_type": "code",
      "source": [
        "start=len(train)\n",
        "end=len(train)+len(test)-1\n",
        "pred=model.predict(start=start,end=end,typ='levels')\n",
        "pred.index=df.index[start:end+1]\n",
        "print(pred)"
      ],
      "metadata": {
        "colab": {
          "base_uri": "https://localhost:8080/"
        },
        "id": "52f69NblGuuO",
        "outputId": "c5ebd104-a86a-4506-8d40-4366f2f572f0"
      },
      "execution_count": null,
      "outputs": [
        {
          "output_type": "stream",
          "name": "stdout",
          "text": [
            "Date\n",
            "2020-01-06    18.946960\n",
            "2020-02-06    20.626206\n",
            "2020-03-06    20.559753\n",
            "2020-04-06    20.322853\n",
            "2020-05-06    20.793559\n",
            "2020-06-06    20.535601\n",
            "2020-07-06    20.664894\n",
            "2020-08-06    20.675529\n",
            "2020-09-06    20.631768\n",
            "2020-10-06    20.681608\n",
            "2020-11-06    20.655558\n",
            "2020-12-06    20.664516\n",
            "2020-06-13    20.667926\n",
            "2020-06-14    20.661880\n",
            "2020-06-15    20.667056\n",
            "2020-06-16    20.664650\n",
            "2020-06-17    20.665112\n",
            "2020-06-18    20.665717\n",
            "2020-06-19    20.664977\n",
            "2020-06-20    20.665496\n",
            "2020-06-21    20.665295\n",
            "2020-06-22    20.665293\n",
            "2020-06-23    20.665381\n",
            "2020-06-24    20.665297\n",
            "2020-06-25    20.665346\n",
            "2020-06-26    20.665332\n",
            "2020-06-27    20.665327\n",
            "2020-06-28    20.665338\n",
            "2020-06-29    20.665329\n",
            "2020-06-30    20.665333\n",
            "Name: predicted_mean, dtype: float64\n"
          ]
        }
      ]
    },
    {
      "cell_type": "code",
      "source": [
        "test['PM2.5'].mean() "
      ],
      "metadata": {
        "colab": {
          "base_uri": "https://localhost:8080/"
        },
        "id": "rnjdETruG328",
        "outputId": "9a758729-2622-486a-a5b6-0e2b90a9e52c"
      },
      "execution_count": null,
      "outputs": [
        {
          "output_type": "execute_result",
          "data": {
            "text/plain": [
              "23.421666666666667"
            ]
          },
          "metadata": {},
          "execution_count": 18
        }
      ]
    },
    {
      "cell_type": "code",
      "source": [
        "from sklearn.metrics import mean_squared_error\n",
        "from math import sqrt\n",
        "rmse=sqrt(mean_squared_error(pred,test['PM2.5']))\n",
        "print(rmse)"
      ],
      "metadata": {
        "colab": {
          "base_uri": "https://localhost:8080/"
        },
        "id": "TikMKx-pG8_N",
        "outputId": "2cf12551-77c0-4cc2-f72c-b9dc0e9fd5ff"
      },
      "execution_count": null,
      "outputs": [
        {
          "output_type": "stream",
          "name": "stdout",
          "text": [
            "8.255601902964926\n"
          ]
        }
      ]
    },
    {
      "cell_type": "code",
      "source": [
        "from statsmodels.tsa.arima_model import ARIMA\n",
        "import statsmodels.api as sm\n",
        "model2=sm.tsa.arima.ARIMA(df['PM2.5'],order=(3,1,3))\n",
        "model2=model2.fit()\n",
        "df.tail()"
      ],
      "metadata": {
        "colab": {
          "base_uri": "https://localhost:8080/",
          "height": 237
        },
        "id": "13iMsjo5G_dN",
        "outputId": "f02e6dd8-2872-4da8-f2ee-ec605f1255c0"
      },
      "execution_count": null,
      "outputs": [
        {
          "output_type": "execute_result",
          "data": {
            "text/plain": [
              "                     City  PM2.5   PM10    NO    NO2    NOx    NH3    CO  \\\n",
              "Date                                                                       \n",
              "2020-06-26  Visakhapatnam   7.63  32.27  5.91  23.27  17.19  11.15  0.46   \n",
              "2020-06-27  Visakhapatnam  15.02  50.94  7.68  25.06  19.54  12.47  0.47   \n",
              "2020-06-28  Visakhapatnam  24.38  74.09  3.42  26.06  16.53  11.99  0.52   \n",
              "2020-06-29  Visakhapatnam  22.91  65.73  3.45  29.53  18.33  10.71  0.48   \n",
              "2020-06-30  Visakhapatnam  16.64  49.97  4.05  29.26  18.80  10.03  0.52   \n",
              "\n",
              "              SO2     O3  Benzene  Toluene  Xylene   AQI    AQI_Bucket  \n",
              "Date                                                                    \n",
              "2020-06-26   6.87  19.90     1.45     5.37    1.45  47.0          Good  \n",
              "2020-06-27   8.55  23.30     2.24    12.07    0.73  41.0          Good  \n",
              "2020-06-28  12.72  30.14     0.74     2.21    0.38  70.0  Satisfactory  \n",
              "2020-06-29   8.42  30.96     0.01     0.01    0.00  68.0  Satisfactory  \n",
              "2020-06-30   9.84  28.30     0.00     0.00    0.00  54.0  Satisfactory  "
            ],
            "text/html": [
              "\n",
              "  <div id=\"df-978b7572-7dd4-4af0-924d-fd376e2e7940\">\n",
              "    <div class=\"colab-df-container\">\n",
              "      <div>\n",
              "<style scoped>\n",
              "    .dataframe tbody tr th:only-of-type {\n",
              "        vertical-align: middle;\n",
              "    }\n",
              "\n",
              "    .dataframe tbody tr th {\n",
              "        vertical-align: top;\n",
              "    }\n",
              "\n",
              "    .dataframe thead th {\n",
              "        text-align: right;\n",
              "    }\n",
              "</style>\n",
              "<table border=\"1\" class=\"dataframe\">\n",
              "  <thead>\n",
              "    <tr style=\"text-align: right;\">\n",
              "      <th></th>\n",
              "      <th>City</th>\n",
              "      <th>PM2.5</th>\n",
              "      <th>PM10</th>\n",
              "      <th>NO</th>\n",
              "      <th>NO2</th>\n",
              "      <th>NOx</th>\n",
              "      <th>NH3</th>\n",
              "      <th>CO</th>\n",
              "      <th>SO2</th>\n",
              "      <th>O3</th>\n",
              "      <th>Benzene</th>\n",
              "      <th>Toluene</th>\n",
              "      <th>Xylene</th>\n",
              "      <th>AQI</th>\n",
              "      <th>AQI_Bucket</th>\n",
              "    </tr>\n",
              "    <tr>\n",
              "      <th>Date</th>\n",
              "      <th></th>\n",
              "      <th></th>\n",
              "      <th></th>\n",
              "      <th></th>\n",
              "      <th></th>\n",
              "      <th></th>\n",
              "      <th></th>\n",
              "      <th></th>\n",
              "      <th></th>\n",
              "      <th></th>\n",
              "      <th></th>\n",
              "      <th></th>\n",
              "      <th></th>\n",
              "      <th></th>\n",
              "      <th></th>\n",
              "    </tr>\n",
              "  </thead>\n",
              "  <tbody>\n",
              "    <tr>\n",
              "      <th>2020-06-26</th>\n",
              "      <td>Visakhapatnam</td>\n",
              "      <td>7.63</td>\n",
              "      <td>32.27</td>\n",
              "      <td>5.91</td>\n",
              "      <td>23.27</td>\n",
              "      <td>17.19</td>\n",
              "      <td>11.15</td>\n",
              "      <td>0.46</td>\n",
              "      <td>6.87</td>\n",
              "      <td>19.90</td>\n",
              "      <td>1.45</td>\n",
              "      <td>5.37</td>\n",
              "      <td>1.45</td>\n",
              "      <td>47.0</td>\n",
              "      <td>Good</td>\n",
              "    </tr>\n",
              "    <tr>\n",
              "      <th>2020-06-27</th>\n",
              "      <td>Visakhapatnam</td>\n",
              "      <td>15.02</td>\n",
              "      <td>50.94</td>\n",
              "      <td>7.68</td>\n",
              "      <td>25.06</td>\n",
              "      <td>19.54</td>\n",
              "      <td>12.47</td>\n",
              "      <td>0.47</td>\n",
              "      <td>8.55</td>\n",
              "      <td>23.30</td>\n",
              "      <td>2.24</td>\n",
              "      <td>12.07</td>\n",
              "      <td>0.73</td>\n",
              "      <td>41.0</td>\n",
              "      <td>Good</td>\n",
              "    </tr>\n",
              "    <tr>\n",
              "      <th>2020-06-28</th>\n",
              "      <td>Visakhapatnam</td>\n",
              "      <td>24.38</td>\n",
              "      <td>74.09</td>\n",
              "      <td>3.42</td>\n",
              "      <td>26.06</td>\n",
              "      <td>16.53</td>\n",
              "      <td>11.99</td>\n",
              "      <td>0.52</td>\n",
              "      <td>12.72</td>\n",
              "      <td>30.14</td>\n",
              "      <td>0.74</td>\n",
              "      <td>2.21</td>\n",
              "      <td>0.38</td>\n",
              "      <td>70.0</td>\n",
              "      <td>Satisfactory</td>\n",
              "    </tr>\n",
              "    <tr>\n",
              "      <th>2020-06-29</th>\n",
              "      <td>Visakhapatnam</td>\n",
              "      <td>22.91</td>\n",
              "      <td>65.73</td>\n",
              "      <td>3.45</td>\n",
              "      <td>29.53</td>\n",
              "      <td>18.33</td>\n",
              "      <td>10.71</td>\n",
              "      <td>0.48</td>\n",
              "      <td>8.42</td>\n",
              "      <td>30.96</td>\n",
              "      <td>0.01</td>\n",
              "      <td>0.01</td>\n",
              "      <td>0.00</td>\n",
              "      <td>68.0</td>\n",
              "      <td>Satisfactory</td>\n",
              "    </tr>\n",
              "    <tr>\n",
              "      <th>2020-06-30</th>\n",
              "      <td>Visakhapatnam</td>\n",
              "      <td>16.64</td>\n",
              "      <td>49.97</td>\n",
              "      <td>4.05</td>\n",
              "      <td>29.26</td>\n",
              "      <td>18.80</td>\n",
              "      <td>10.03</td>\n",
              "      <td>0.52</td>\n",
              "      <td>9.84</td>\n",
              "      <td>28.30</td>\n",
              "      <td>0.00</td>\n",
              "      <td>0.00</td>\n",
              "      <td>0.00</td>\n",
              "      <td>54.0</td>\n",
              "      <td>Satisfactory</td>\n",
              "    </tr>\n",
              "  </tbody>\n",
              "</table>\n",
              "</div>\n",
              "      <button class=\"colab-df-convert\" onclick=\"convertToInteractive('df-978b7572-7dd4-4af0-924d-fd376e2e7940')\"\n",
              "              title=\"Convert this dataframe to an interactive table.\"\n",
              "              style=\"display:none;\">\n",
              "        \n",
              "  <svg xmlns=\"http://www.w3.org/2000/svg\" height=\"24px\"viewBox=\"0 0 24 24\"\n",
              "       width=\"24px\">\n",
              "    <path d=\"M0 0h24v24H0V0z\" fill=\"none\"/>\n",
              "    <path d=\"M18.56 5.44l.94 2.06.94-2.06 2.06-.94-2.06-.94-.94-2.06-.94 2.06-2.06.94zm-11 1L8.5 8.5l.94-2.06 2.06-.94-2.06-.94L8.5 2.5l-.94 2.06-2.06.94zm10 10l.94 2.06.94-2.06 2.06-.94-2.06-.94-.94-2.06-.94 2.06-2.06.94z\"/><path d=\"M17.41 7.96l-1.37-1.37c-.4-.4-.92-.59-1.43-.59-.52 0-1.04.2-1.43.59L10.3 9.45l-7.72 7.72c-.78.78-.78 2.05 0 2.83L4 21.41c.39.39.9.59 1.41.59.51 0 1.02-.2 1.41-.59l7.78-7.78 2.81-2.81c.8-.78.8-2.07 0-2.86zM5.41 20L4 18.59l7.72-7.72 1.47 1.35L5.41 20z\"/>\n",
              "  </svg>\n",
              "      </button>\n",
              "      \n",
              "  <style>\n",
              "    .colab-df-container {\n",
              "      display:flex;\n",
              "      flex-wrap:wrap;\n",
              "      gap: 12px;\n",
              "    }\n",
              "\n",
              "    .colab-df-convert {\n",
              "      background-color: #E8F0FE;\n",
              "      border: none;\n",
              "      border-radius: 50%;\n",
              "      cursor: pointer;\n",
              "      display: none;\n",
              "      fill: #1967D2;\n",
              "      height: 32px;\n",
              "      padding: 0 0 0 0;\n",
              "      width: 32px;\n",
              "    }\n",
              "\n",
              "    .colab-df-convert:hover {\n",
              "      background-color: #E2EBFA;\n",
              "      box-shadow: 0px 1px 2px rgba(60, 64, 67, 0.3), 0px 1px 3px 1px rgba(60, 64, 67, 0.15);\n",
              "      fill: #174EA6;\n",
              "    }\n",
              "\n",
              "    [theme=dark] .colab-df-convert {\n",
              "      background-color: #3B4455;\n",
              "      fill: #D2E3FC;\n",
              "    }\n",
              "\n",
              "    [theme=dark] .colab-df-convert:hover {\n",
              "      background-color: #434B5C;\n",
              "      box-shadow: 0px 1px 3px 1px rgba(0, 0, 0, 0.15);\n",
              "      filter: drop-shadow(0px 1px 2px rgba(0, 0, 0, 0.3));\n",
              "      fill: #FFFFFF;\n",
              "    }\n",
              "  </style>\n",
              "\n",
              "      <script>\n",
              "        const buttonEl =\n",
              "          document.querySelector('#df-978b7572-7dd4-4af0-924d-fd376e2e7940 button.colab-df-convert');\n",
              "        buttonEl.style.display =\n",
              "          google.colab.kernel.accessAllowed ? 'block' : 'none';\n",
              "\n",
              "        async function convertToInteractive(key) {\n",
              "          const element = document.querySelector('#df-978b7572-7dd4-4af0-924d-fd376e2e7940');\n",
              "          const dataTable =\n",
              "            await google.colab.kernel.invokeFunction('convertToInteractive',\n",
              "                                                     [key], {});\n",
              "          if (!dataTable) return;\n",
              "\n",
              "          const docLinkHtml = 'Like what you see? Visit the ' +\n",
              "            '<a target=\"_blank\" href=https://colab.research.google.com/notebooks/data_table.ipynb>data table notebook</a>'\n",
              "            + ' to learn more about interactive tables.';\n",
              "          element.innerHTML = '';\n",
              "          dataTable['output_type'] = 'display_data';\n",
              "          await google.colab.output.renderOutput(dataTable, element);\n",
              "          const docLink = document.createElement('div');\n",
              "          docLink.innerHTML = docLinkHtml;\n",
              "          element.appendChild(docLink);\n",
              "        }\n",
              "      </script>\n",
              "    </div>\n",
              "  </div>\n",
              "  "
            ]
          },
          "metadata": {},
          "execution_count": 20
        }
      ]
    },
    {
      "cell_type": "code",
      "source": [
        "start=len(train)\n",
        "end=len(train)+len(test)-1\n",
        "index_future_dates=pd.date_range(start='2022-01-01',end='2022-01-30')\n",
        "pred=model2.predict(start=len(df),end=len(df)+30,typ='levels').rename('ARIMA Predictions')\n",
        "# pred.index=index_future_dates\n",
        "print(pred)\n",
        "# pred.index=df.index[start:end+1]\n",
        "# print(pred)"
      ],
      "metadata": {
        "id": "nY1IVeA5INwG",
        "outputId": "aeabf5d9-46cd-46de-aa0a-516f2eba5e07",
        "colab": {
          "base_uri": "https://localhost:8080/"
        }
      },
      "execution_count": null,
      "outputs": [
        {
          "output_type": "stream",
          "name": "stdout",
          "text": [
            "6236    17.872707\n",
            "6237    19.651250\n",
            "6238    20.017839\n",
            "6239    20.385424\n",
            "6240    20.672159\n",
            "6241    20.678783\n",
            "6242    20.799369\n",
            "6243    20.810620\n",
            "6244    20.824383\n",
            "6245    20.846864\n",
            "6246    20.841302\n",
            "6247    20.850103\n",
            "6248    20.850404\n",
            "6249    20.850287\n",
            "6250    20.852355\n",
            "6251    20.851480\n",
            "6252    20.852142\n",
            "6253    20.852184\n",
            "6254    20.852064\n",
            "6255    20.852272\n",
            "6256    20.852171\n",
            "6257    20.852220\n",
            "6258    20.852230\n",
            "6259    20.852210\n",
            "6260    20.852231\n",
            "6261    20.852221\n",
            "6262    20.852224\n",
            "6263    20.852226\n",
            "6264    20.852223\n",
            "6265    20.852226\n",
            "6266    20.852225\n",
            "Name: ARIMA Predictions, dtype: float64\n"
          ]
        }
      ]
    }
  ]
}